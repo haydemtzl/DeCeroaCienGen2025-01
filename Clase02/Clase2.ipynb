{
 "cells": [
  {
   "cell_type": "code",
   "execution_count": 1,
   "id": "a857e2d0-a091-430b-912d-ac0690c19933",
   "metadata": {},
   "outputs": [
    {
     "name": "stdout",
     "output_type": "stream",
     "text": [
      "hello world\n"
     ]
    }
   ],
   "source": [
    "print(\"hello world\")"
   ]
  },
  {
   "cell_type": "code",
   "execution_count": 2,
   "id": "ae9febfd-96ad-4273-adec-73799f3ac8f8",
   "metadata": {},
   "outputs": [
    {
     "data": {
      "text/plain": [
       "4"
      ]
     },
     "execution_count": 2,
     "metadata": {},
     "output_type": "execute_result"
    }
   ],
   "source": [
    "2+2"
   ]
  },
  {
   "cell_type": "code",
   "execution_count": 3,
   "id": "dcb2d4ff-2172-4b22-b40b-435b9d2ba12d",
   "metadata": {},
   "outputs": [],
   "source": [
    "a = 2"
   ]
  },
  {
   "cell_type": "code",
   "execution_count": 4,
   "id": "cc6e3aa6-ad30-45a4-be8d-83cd020b8bb0",
   "metadata": {},
   "outputs": [
    {
     "data": {
      "text/plain": [
       "2"
      ]
     },
     "execution_count": 4,
     "metadata": {},
     "output_type": "execute_result"
    }
   ],
   "source": [
    "a"
   ]
  },
  {
   "cell_type": "code",
   "execution_count": 5,
   "id": "01c7f01b-3967-44f7-9ddb-ad2f757e1a20",
   "metadata": {},
   "outputs": [
    {
     "data": {
      "text/plain": [
       "4"
      ]
     },
     "execution_count": 5,
     "metadata": {},
     "output_type": "execute_result"
    }
   ],
   "source": [
    "a + 2"
   ]
  },
  {
   "cell_type": "code",
   "execution_count": 6,
   "id": "925d1205-5859-4d44-b2bc-e0c82480492e",
   "metadata": {},
   "outputs": [],
   "source": [
    "numerica = 25"
   ]
  },
  {
   "cell_type": "code",
   "execution_count": 7,
   "id": "1ef5f101-0e06-42df-a6fd-72fc7eb25ae7",
   "metadata": {},
   "outputs": [],
   "source": [
    "texto = \"soy un texto\""
   ]
  },
  {
   "cell_type": "code",
   "execution_count": 8,
   "id": "699f46fa-d7ed-4475-9fe8-ff51304a7126",
   "metadata": {},
   "outputs": [
    {
     "data": {
      "text/plain": [
       "25"
      ]
     },
     "execution_count": 8,
     "metadata": {},
     "output_type": "execute_result"
    }
   ],
   "source": [
    "numerica"
   ]
  },
  {
   "cell_type": "code",
   "execution_count": 9,
   "id": "7528fdf6-6aeb-4a4e-af5a-aadd485867c3",
   "metadata": {},
   "outputs": [
    {
     "data": {
      "text/plain": [
       "'soy un texto'"
      ]
     },
     "execution_count": 9,
     "metadata": {},
     "output_type": "execute_result"
    }
   ],
   "source": [
    "texto"
   ]
  },
  {
   "cell_type": "code",
   "execution_count": 10,
   "id": "68401e87-a69a-4e2b-923c-78dd5d60c9c4",
   "metadata": {},
   "outputs": [],
   "source": [
    "nombre = \"Hayde\""
   ]
  },
  {
   "cell_type": "code",
   "execution_count": 11,
   "id": "da3bc422-a2bb-437c-99dd-eb5362919108",
   "metadata": {},
   "outputs": [
    {
     "data": {
      "text/plain": [
       "'Hayde'"
      ]
     },
     "execution_count": 11,
     "metadata": {},
     "output_type": "execute_result"
    }
   ],
   "source": [
    "nombre"
   ]
  },
  {
   "cell_type": "code",
   "execution_count": 13,
   "id": "051190c0-9521-4fa0-a58e-2c0fdbd91425",
   "metadata": {},
   "outputs": [],
   "source": [
    "def suma():\n",
    "  resultado = 2+2\n",
    "  print(resultado) "
   ]
  },
  {
   "cell_type": "code",
   "execution_count": 14,
   "id": "3363989f-e4c2-4092-91db-f0a44cab9385",
   "metadata": {},
   "outputs": [
    {
     "name": "stdout",
     "output_type": "stream",
     "text": [
      "4\n"
     ]
    }
   ],
   "source": [
    "suma()"
   ]
  },
  {
   "cell_type": "code",
   "execution_count": null,
   "id": "77e14507-74f3-4e7a-ab90-a911cf8055c1",
   "metadata": {},
   "outputs": [],
   "source": []
  }
 ],
 "metadata": {
  "kernelspec": {
   "display_name": "Python 3 (ipykernel)",
   "language": "python",
   "name": "python3"
  },
  "language_info": {
   "codemirror_mode": {
    "name": "ipython",
    "version": 3
   },
   "file_extension": ".py",
   "mimetype": "text/x-python",
   "name": "python",
   "nbconvert_exporter": "python",
   "pygments_lexer": "ipython3",
   "version": "3.9.6"
  }
 },
 "nbformat": 4,
 "nbformat_minor": 5
}
