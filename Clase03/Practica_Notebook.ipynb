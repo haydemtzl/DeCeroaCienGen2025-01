{
 "cells": [
  {
   "cell_type": "code",
   "execution_count": 3,
   "id": "4df5fc03-9efc-4d53-b7a5-be4e00e2dded",
   "metadata": {},
   "outputs": [],
   "source": [
    "# Declarando / creando datos atómicos - los más pequeños o los fundamentales\n",
    "entero = 1250\n",
    "flotantes = 1500.50\n",
    "cadena = \"Hayde\"\n",
    "Booleano = True"
   ]
  },
  {
   "cell_type": "code",
   "execution_count": 5,
   "id": "05b75657-323d-4f84-88e3-2227a270c959",
   "metadata": {},
   "outputs": [
    {
     "name": "stdout",
     "output_type": "stream",
     "text": [
      "1250\n",
      "1500.5\n",
      "Hayde\n",
      "True\n"
     ]
    }
   ],
   "source": [
    "# Imprimiendo los valores que acabo de crear\n",
    "print(entero)\n",
    "print(flotantes)\n",
    "print(cadena)\n",
    "print(Booleano)"
   ]
  },
  {
   "cell_type": "code",
   "execution_count": 7,
   "id": "cc2dc97d-2730-45de-aaf2-66bff8b093d7",
   "metadata": {},
   "outputs": [
    {
     "data": {
      "text/plain": [
       "1250"
      ]
     },
     "execution_count": 7,
     "metadata": {},
     "output_type": "execute_result"
    }
   ],
   "source": [
    "# Imprimiendo los valores que acabo de crear\n",
    "entero"
   ]
  },
  {
   "cell_type": "code",
   "execution_count": 9,
   "id": "a3a2c1a7-c7e2-45a8-aaa2-4c4910d9d275",
   "metadata": {},
   "outputs": [
    {
     "data": {
      "text/plain": [
       "False"
      ]
     },
     "execution_count": 9,
     "metadata": {},
     "output_type": "execute_result"
    }
   ],
   "source": [
    "a = 0\n",
    "a is True"
   ]
  },
  {
   "cell_type": "code",
   "execution_count": 10,
   "id": "c2936201-f2cb-4ec1-8c66-d1acf5f53841",
   "metadata": {},
   "outputs": [
    {
     "data": {
      "text/plain": [
       "False"
      ]
     },
     "execution_count": 10,
     "metadata": {},
     "output_type": "execute_result"
    }
   ],
   "source": [
    "b = \"\"\n",
    "b is True"
   ]
  },
  {
   "cell_type": "code",
   "execution_count": 11,
   "id": "ea2e9bf5-2e0f-4e4d-b20e-e9be6498fa14",
   "metadata": {},
   "outputs": [
    {
     "data": {
      "text/plain": [
       "False"
      ]
     },
     "execution_count": 11,
     "metadata": {},
     "output_type": "execute_result"
    }
   ],
   "source": [
    "c = \" \"\n",
    "c is True"
   ]
  },
  {
   "cell_type": "code",
   "execution_count": 12,
   "id": "5649cd2c-4ff2-488e-b1f4-c527e90b7f26",
   "metadata": {},
   "outputs": [
    {
     "data": {
      "text/plain": [
       "False"
      ]
     },
     "execution_count": 12,
     "metadata": {},
     "output_type": "execute_result"
    }
   ],
   "source": [
    "\" \" == \"\""
   ]
  },
  {
   "cell_type": "code",
   "execution_count": 13,
   "id": "e3dfb58b-f9f1-47e9-9933-234f75c2c60d",
   "metadata": {},
   "outputs": [],
   "source": [
    "#Declarando más variables\n",
    "resultado = entero + flotantes\n",
    "resta = 15 - flotantes\n",
    "total = 1 + 2 +  3 + \\\n",
    "        4 + 5 + 6 "
   ]
  },
  {
   "cell_type": "code",
   "execution_count": 14,
   "id": "fc3d49eb-aa32-4e09-b2dd-878896a00009",
   "metadata": {},
   "outputs": [
    {
     "name": "stdout",
     "output_type": "stream",
     "text": [
      "2750.5\n",
      "-1485.5\n",
      "21\n"
     ]
    }
   ],
   "source": [
    "print(resultado)\n",
    "print(resta)\n",
    "print(total)\n"
   ]
  },
  {
   "cell_type": "code",
   "execution_count": 15,
   "id": "c88cac7c-bceb-42ea-8059-690c9d0e3c79",
   "metadata": {},
   "outputs": [
    {
     "name": "stdout",
     "output_type": "stream",
     "text": [
      "4\n"
     ]
    }
   ],
   "source": [
    "def suma(): # <- Para crear una funciòn siempre uso la palabra reservada def despues un espacio, despuès el nombre de la funciòn, después parentesis abierto y cerrado y finalmente un \":\"\n",
    "    print(2+2)\n",
    "\n",
    "# Llamar mi función\n",
    "\n",
    "suma()"
   ]
  },
  {
   "cell_type": "code",
   "execution_count": 25,
   "id": "ba00924e-057e-4583-8087-7b5ada053f31",
   "metadata": {},
   "outputs": [
    {
     "data": {
      "text/plain": [
       "[1, 2, 'hola', [3, 5], {'Clave': 'Valor'}]"
      ]
     },
     "execution_count": 25,
     "metadata": {},
     "output_type": "execute_result"
    }
   ],
   "source": [
    "# Más tipos de datos LISTA\n",
    "lista = [1, 2, \"hola\", [3,5],{\"Clave\":\"Valor\"}]\n",
    "lista"
   ]
  },
  {
   "cell_type": "code",
   "execution_count": 17,
   "id": "f5f65431-d156-46c8-9344-1d5e649ab5db",
   "metadata": {},
   "outputs": [
    {
     "data": {
      "text/plain": [
       "(1, 2, 'bla', 9)"
      ]
     },
     "execution_count": 17,
     "metadata": {},
     "output_type": "execute_result"
    }
   ],
   "source": [
    "# Más tipos de datos TUPLA\n",
    "tuplas = (1, 2, \"bla\", 3*3)\n",
    "tuplas"
   ]
  },
  {
   "cell_type": "code",
   "execution_count": 18,
   "id": "c6a6597b-c814-488d-8d88-84634200361e",
   "metadata": {},
   "outputs": [
    {
     "data": {
      "text/plain": [
       "1250"
      ]
     },
     "execution_count": 18,
     "metadata": {},
     "output_type": "execute_result"
    }
   ],
   "source": [
    "entero"
   ]
  },
  {
   "cell_type": "code",
   "execution_count": 21,
   "id": "b0661af4-5709-4ba3-aa13-50e85ce85df4",
   "metadata": {},
   "outputs": [],
   "source": [
    "# Sobreescribiendo una variable\n",
    "entero = \"mira como te escribo sin problemas y hasta cambiando de tipo de dato\""
   ]
  },
  {
   "cell_type": "code",
   "execution_count": 22,
   "id": "ea17f7e7-ce6e-4c80-992b-b09bd74bf978",
   "metadata": {},
   "outputs": [
    {
     "data": {
      "text/plain": [
       "'mira como te escribo sin problemas y hasta cambiando de tipo de dato'"
      ]
     },
     "execution_count": 22,
     "metadata": {},
     "output_type": "execute_result"
    }
   ],
   "source": [
    "entero"
   ]
  },
  {
   "cell_type": "code",
   "execution_count": 26,
   "id": "a0d3e9a5-6d00-406a-b3ba-c8a767b6a95e",
   "metadata": {},
   "outputs": [
    {
     "data": {
      "text/plain": [
       "{'Nombre': 'Hayde',\n",
       " 'Edad': 35,\n",
       " 'Ciudad': 'Zapopan',\n",
       " 'Hobbies': ['Leer', 'Correr', 'Cocinar']}"
      ]
     },
     "execution_count": 26,
     "metadata": {},
     "output_type": "execute_result"
    }
   ],
   "source": [
    "# Más tipos de datos DICCIONARIO\n",
    "mi_dict = {\"Nombre\":\"Hayde\",\"Edad\":35,\"Ciudad\":\"Zapopan\", \"Hobbies\":[\"Leer\", \"Correr\", \"Cocinar\"]}\n",
    "mi_dict"
   ]
  },
  {
   "cell_type": "code",
   "execution_count": 33,
   "id": "4fc05998-9693-4a95-bef4-ebda195365aa",
   "metadata": {},
   "outputs": [
    {
     "data": {
      "text/plain": [
       "'Python'"
      ]
     },
     "execution_count": 33,
     "metadata": {},
     "output_type": "execute_result"
    }
   ],
   "source": [
    "# Cadenas de texto\n",
    "nombre = \"Python\"\n",
    "nombre"
   ]
  },
  {
   "cell_type": "code",
   "execution_count": 34,
   "id": "17d3a7a4-c342-49f0-9641-ff566f65636c",
   "metadata": {},
   "outputs": [
    {
     "name": "stdout",
     "output_type": "stream",
     "text": [
      "El día de hoy estoy aprendiendo Python\n"
     ]
    }
   ],
   "source": [
    "print(\"El día de hoy estoy aprendiendo \" + nombre)"
   ]
  },
  {
   "cell_type": "code",
   "execution_count": 38,
   "id": "63f42eaf-0fa7-4323-a2c3-d3c082565d07",
   "metadata": {},
   "outputs": [
    {
     "name": "stdout",
     "output_type": "stream",
     "text": [
      "El día de hoy estoy aprendiendo Python 3\n"
     ]
    }
   ],
   "source": [
    "version = 3\n",
    "print(\"El día de hoy estoy aprendiendo \" + nombre + \" \" + str(version))"
   ]
  },
  {
   "cell_type": "code",
   "execution_count": 39,
   "id": "16142cc8-2d32-4895-b397-d5e9479a2968",
   "metadata": {},
   "outputs": [],
   "source": [
    "texto = \"Hola Mundo\""
   ]
  },
  {
   "cell_type": "code",
   "execution_count": 40,
   "id": "19f5fb4e-65df-4c0d-ab70-72528b15ba24",
   "metadata": {},
   "outputs": [
    {
     "data": {
      "text/plain": [
       "'HOLA MUNDO'"
      ]
     },
     "execution_count": 40,
     "metadata": {},
     "output_type": "execute_result"
    }
   ],
   "source": [
    "#Estoy accesando a las funciones propia de las cadenas de texto\n",
    "#Convertir a mayuscular\n",
    "texto.upper()"
   ]
  },
  {
   "cell_type": "code",
   "execution_count": 43,
   "id": "25b26929-2e71-41bd-b08c-aac437d30371",
   "metadata": {},
   "outputs": [
    {
     "data": {
      "text/plain": [
       "'HOLA MUNDO'"
      ]
     },
     "execution_count": 43,
     "metadata": {},
     "output_type": "execute_result"
    }
   ],
   "source": [
    "#almacenando en una nueva variable\n",
    "textoMayus = texto.upper()\n",
    "textoMayus"
   ]
  },
  {
   "cell_type": "code",
   "execution_count": 44,
   "id": "2ab954f8-ac3c-4748-b048-ad60c5f6aad0",
   "metadata": {},
   "outputs": [
    {
     "data": {
      "text/plain": [
       "'Hola Mundo'"
      ]
     },
     "execution_count": 44,
     "metadata": {},
     "output_type": "execute_result"
    }
   ],
   "source": [
    "texto"
   ]
  },
  {
   "cell_type": "code",
   "execution_count": 45,
   "id": "a1587cba-3757-4742-96ff-4c69443376aa",
   "metadata": {},
   "outputs": [
    {
     "data": {
      "text/plain": [
       "'hola mundo'"
      ]
     },
     "execution_count": 45,
     "metadata": {},
     "output_type": "execute_result"
    }
   ],
   "source": [
    "#Convertir a minusculas\n",
    "texto.lower()"
   ]
  },
  {
   "cell_type": "code",
   "execution_count": 47,
   "id": "78021b6e-02a2-410f-aa05-ad4f4a2f48e9",
   "metadata": {},
   "outputs": [
    {
     "data": {
      "text/plain": [
       "'Adios Mundo'"
      ]
     },
     "execution_count": 47,
     "metadata": {},
     "output_type": "execute_result"
    }
   ],
   "source": [
    "texto.replace(\"Hola\",\"Adios\")"
   ]
  },
  {
   "cell_type": "code",
   "execution_count": 48,
   "id": "7904d96b-249b-4443-b7a2-f022faaad363",
   "metadata": {},
   "outputs": [
    {
     "data": {
      "text/plain": [
       "'Hola Mundo'"
      ]
     },
     "execution_count": 48,
     "metadata": {},
     "output_type": "execute_result"
    }
   ],
   "source": [
    "texto"
   ]
  },
  {
   "cell_type": "code",
   "execution_count": 49,
   "id": "01ef5c22-a598-49e6-87db-d1f479a76f95",
   "metadata": {},
   "outputs": [
    {
     "data": {
      "text/plain": [
       "'Adios Mundo'"
      ]
     },
     "execution_count": 49,
     "metadata": {},
     "output_type": "execute_result"
    }
   ],
   "source": [
    "texto = texto.replace(\"Hola\",\"Adios\")\n",
    "texto"
   ]
  },
  {
   "cell_type": "code",
   "execution_count": 50,
   "id": "b95e0822-cc5f-460c-87c0-00e1c0094e38",
   "metadata": {},
   "outputs": [
    {
     "data": {
      "text/plain": [
       "['Adios', 'Mundo']"
      ]
     },
     "execution_count": 50,
     "metadata": {},
     "output_type": "execute_result"
    }
   ],
   "source": [
    "texto.split()"
   ]
  },
  {
   "cell_type": "code",
   "execution_count": 52,
   "id": "14fd6fd9-f72e-4288-9e3d-c0468226b964",
   "metadata": {},
   "outputs": [
    {
     "data": {
      "text/plain": [
       "['1', '2', '3', '4', '5', '6']"
      ]
     },
     "execution_count": 52,
     "metadata": {},
     "output_type": "execute_result"
    }
   ],
   "source": [
    "\"1,2,3,4,5,6\".split(\",\")"
   ]
  },
  {
   "cell_type": "code",
   "execution_count": 53,
   "id": "029cd3d0-ba27-435b-9dfe-94c1fea52259",
   "metadata": {},
   "outputs": [
    {
     "data": {
      "text/plain": [
       "11"
      ]
     },
     "execution_count": 53,
     "metadata": {},
     "output_type": "execute_result"
    }
   ],
   "source": [
    "len(texto)"
   ]
  },
  {
   "cell_type": "code",
   "execution_count": 54,
   "id": "c42cabd5-e415-4fe4-b2a9-0c99f287170f",
   "metadata": {},
   "outputs": [
    {
     "data": {
      "text/plain": [
       "'d'"
      ]
     },
     "execution_count": 54,
     "metadata": {},
     "output_type": "execute_result"
    }
   ],
   "source": [
    "texto[1]"
   ]
  },
  {
   "cell_type": "code",
   "execution_count": 55,
   "id": "a99ba1d9-74f9-4cf9-aa7f-612ba90768ef",
   "metadata": {},
   "outputs": [
    {
     "data": {
      "text/plain": [
       "'u'"
      ]
     },
     "execution_count": 55,
     "metadata": {},
     "output_type": "execute_result"
    }
   ],
   "source": [
    "texto[7]"
   ]
  },
  {
   "cell_type": "code",
   "execution_count": 56,
   "id": "8eda9ae4-2ca2-4d50-83c6-75cd0aaa9460",
   "metadata": {},
   "outputs": [
    {
     "data": {
      "text/plain": [
       "'A'"
      ]
     },
     "execution_count": 56,
     "metadata": {},
     "output_type": "execute_result"
    }
   ],
   "source": [
    "texto[0]"
   ]
  },
  {
   "cell_type": "code",
   "execution_count": 58,
   "id": "0512babd-6048-4eb6-8442-99d7271e61f2",
   "metadata": {},
   "outputs": [
    {
     "data": {
      "text/plain": [
       "'o'"
      ]
     },
     "execution_count": 58,
     "metadata": {},
     "output_type": "execute_result"
    }
   ],
   "source": [
    "texto[-1]"
   ]
  },
  {
   "cell_type": "code",
   "execution_count": 59,
   "id": "6c84a5f4-a95e-4b11-84a0-7dab271c39e1",
   "metadata": {},
   "outputs": [
    {
     "data": {
      "text/plain": [
       "'d'"
      ]
     },
     "execution_count": 59,
     "metadata": {},
     "output_type": "execute_result"
    }
   ],
   "source": [
    "texto[-2]"
   ]
  },
  {
   "cell_type": "code",
   "execution_count": 60,
   "id": "67da78ec-703d-4ef5-ae4f-2763b49e0e2c",
   "metadata": {},
   "outputs": [
    {
     "data": {
      "text/plain": [
       "'Adios Mundo'"
      ]
     },
     "execution_count": 60,
     "metadata": {},
     "output_type": "execute_result"
    }
   ],
   "source": [
    "texto"
   ]
  },
  {
   "cell_type": "code",
   "execution_count": 62,
   "id": "57fcb054-a56f-488c-a7e6-abf34b45cb46",
   "metadata": {},
   "outputs": [
    {
     "data": {
      "text/plain": [
       "'dios'"
      ]
     },
     "execution_count": 62,
     "metadata": {},
     "output_type": "execute_result"
    }
   ],
   "source": [
    "texto[1:5]"
   ]
  },
  {
   "cell_type": "code",
   "execution_count": 64,
   "id": "5c5d16ce-2ae7-41cc-ad99-e033d43adc03",
   "metadata": {},
   "outputs": [
    {
     "data": {
      "text/plain": [
       "'MundoAdios'"
      ]
     },
     "execution_count": 64,
     "metadata": {},
     "output_type": "execute_result"
    }
   ],
   "source": [
    "texto[6:11] + texto[0:5]"
   ]
  },
  {
   "cell_type": "code",
   "execution_count": 65,
   "id": "718d14f3-cf6c-4ce2-99c3-8d5535dd9223",
   "metadata": {},
   "outputs": [
    {
     "data": {
      "text/plain": [
       "[1, 2, 3, 'python', [4, 5]]"
      ]
     },
     "execution_count": 65,
     "metadata": {},
     "output_type": "execute_result"
    }
   ],
   "source": [
    "# Operaciones con listas\n",
    "lista = [1,2,3,\"python\",[4,5]]\n",
    "lista"
   ]
  },
  {
   "cell_type": "code",
   "execution_count": 66,
   "id": "ea3d20c9-358f-44f0-8fb3-6cf44eac4a54",
   "metadata": {},
   "outputs": [
    {
     "data": {
      "text/plain": [
       "[4, 5]"
      ]
     },
     "execution_count": 66,
     "metadata": {},
     "output_type": "execute_result"
    }
   ],
   "source": [
    "lista[-1]"
   ]
  },
  {
   "cell_type": "code",
   "execution_count": 67,
   "id": "7ee9a61c-a810-41c4-a8a2-3fae75b22c1f",
   "metadata": {},
   "outputs": [
    {
     "data": {
      "text/plain": [
       "'python'"
      ]
     },
     "execution_count": 67,
     "metadata": {},
     "output_type": "execute_result"
    }
   ],
   "source": [
    "lista[3]"
   ]
  },
  {
   "cell_type": "code",
   "execution_count": 68,
   "id": "926ffbd9-6c87-4048-ac2e-ce099138b523",
   "metadata": {},
   "outputs": [
    {
     "data": {
      "text/plain": [
       "[4, 5]"
      ]
     },
     "execution_count": 68,
     "metadata": {},
     "output_type": "execute_result"
    }
   ],
   "source": [
    "lista[4]"
   ]
  },
  {
   "cell_type": "code",
   "execution_count": 69,
   "id": "4026f0f4-3518-4901-86d6-35194c5084b5",
   "metadata": {},
   "outputs": [
    {
     "data": {
      "text/plain": [
       "5"
      ]
     },
     "execution_count": 69,
     "metadata": {},
     "output_type": "execute_result"
    }
   ],
   "source": [
    "lista[4][1]"
   ]
  },
  {
   "cell_type": "code",
   "execution_count": 70,
   "id": "3658111e-5f68-4b5f-8aae-00988b8f8b52",
   "metadata": {},
   "outputs": [
    {
     "data": {
      "text/plain": [
       "[1, 2, 3, 'python', [4, 5]]"
      ]
     },
     "execution_count": 70,
     "metadata": {},
     "output_type": "execute_result"
    }
   ],
   "source": [
    "lista"
   ]
  },
  {
   "cell_type": "code",
   "execution_count": 71,
   "id": "f564f2e9-968f-4e85-8e3a-75f62bbdf8d8",
   "metadata": {},
   "outputs": [
    {
     "data": {
      "text/plain": [
       "[1, 2, 3, 'python', [4, 5], 7]"
      ]
     },
     "execution_count": 71,
     "metadata": {},
     "output_type": "execute_result"
    }
   ],
   "source": [
    "lista.append(7)\n",
    "lista"
   ]
  },
  {
   "cell_type": "code",
   "execution_count": 72,
   "id": "8ecabb49-4c14-4f02-8592-673ec9d704b4",
   "metadata": {},
   "outputs": [],
   "source": [
    "lista.insert(3,\"jupyter\")"
   ]
  },
  {
   "cell_type": "code",
   "execution_count": 73,
   "id": "39876881-fa9b-464c-be0d-d76172af7662",
   "metadata": {},
   "outputs": [
    {
     "data": {
      "text/plain": [
       "[1, 2, 3, 'jupyter', 'python', [4, 5], 7]"
      ]
     },
     "execution_count": 73,
     "metadata": {},
     "output_type": "execute_result"
    }
   ],
   "source": [
    "lista"
   ]
  },
  {
   "cell_type": "code",
   "execution_count": 74,
   "id": "c6f1cf19-5996-4748-8741-f96546465ad8",
   "metadata": {},
   "outputs": [
    {
     "data": {
      "text/plain": [
       "[1, 3, 'jupyter', 'python', [4, 5], 7]"
      ]
     },
     "execution_count": 74,
     "metadata": {},
     "output_type": "execute_result"
    }
   ],
   "source": [
    "lista.remove(2)\n",
    "lista"
   ]
  },
  {
   "cell_type": "code",
   "execution_count": 75,
   "id": "b992ca86-b88a-4c6a-8aaf-f7f88b4a9688",
   "metadata": {},
   "outputs": [],
   "source": [
    "lista.insert(1,2)"
   ]
  },
  {
   "cell_type": "code",
   "execution_count": 76,
   "id": "e38a0212-da3b-4619-9ac9-27eecc19af49",
   "metadata": {},
   "outputs": [],
   "source": [
    "lista.insert(-1,2)"
   ]
  },
  {
   "cell_type": "code",
   "execution_count": 77,
   "id": "6eaa86cb-7167-4813-b24f-7a3ac679c82e",
   "metadata": {},
   "outputs": [
    {
     "data": {
      "text/plain": [
       "[1, 2, 3, 'jupyter', 'python', [4, 5], 2, 7]"
      ]
     },
     "execution_count": 77,
     "metadata": {},
     "output_type": "execute_result"
    }
   ],
   "source": [
    "lista"
   ]
  },
  {
   "cell_type": "code",
   "execution_count": 78,
   "id": "fe2b7798-aed1-44d5-a77f-b3cc70074c68",
   "metadata": {},
   "outputs": [
    {
     "data": {
      "text/plain": [
       "[1, 3, 'jupyter', 'python', [4, 5], 2, 7]"
      ]
     },
     "execution_count": 78,
     "metadata": {},
     "output_type": "execute_result"
    }
   ],
   "source": [
    "lista.remove(2)\n",
    "lista"
   ]
  },
  {
   "cell_type": "code",
   "execution_count": 79,
   "id": "180eee89-f0ff-4954-868e-ddc832654805",
   "metadata": {},
   "outputs": [
    {
     "data": {
      "text/plain": [
       "7"
      ]
     },
     "execution_count": 79,
     "metadata": {},
     "output_type": "execute_result"
    }
   ],
   "source": [
    "lista.pop()"
   ]
  },
  {
   "cell_type": "code",
   "execution_count": 80,
   "id": "7a221c07-f722-4389-ba27-09faa3e84a98",
   "metadata": {},
   "outputs": [
    {
     "data": {
      "text/plain": [
       "[1, 3, 'jupyter', 'python', [4, 5], 2]"
      ]
     },
     "execution_count": 80,
     "metadata": {},
     "output_type": "execute_result"
    }
   ],
   "source": [
    "lista"
   ]
  },
  {
   "cell_type": "code",
   "execution_count": 81,
   "id": "7e9218eb-4db5-49dc-9303-036a0ce1fe8d",
   "metadata": {},
   "outputs": [
    {
     "data": {
      "text/plain": [
       "[1, 3, 'python', [4, 5], 2]"
      ]
     },
     "execution_count": 81,
     "metadata": {},
     "output_type": "execute_result"
    }
   ],
   "source": [
    "lista.pop(2)\n",
    "lista"
   ]
  },
  {
   "cell_type": "code",
   "execution_count": 82,
   "id": "62389715-13b0-4ed0-917c-e45e3ab1052f",
   "metadata": {},
   "outputs": [
    {
     "ename": "TypeError",
     "evalue": "'<' not supported between instances of 'str' and 'int'",
     "output_type": "error",
     "traceback": [
      "\u001b[0;31m---------------------------------------------------------------------------\u001b[0m",
      "\u001b[0;31mTypeError\u001b[0m                                 Traceback (most recent call last)",
      "Cell \u001b[0;32mIn[82], line 1\u001b[0m\n\u001b[0;32m----> 1\u001b[0m \u001b[43mlista\u001b[49m\u001b[38;5;241;43m.\u001b[39;49m\u001b[43msort\u001b[49m\u001b[43m(\u001b[49m\u001b[43m)\u001b[49m\n",
      "\u001b[0;31mTypeError\u001b[0m: '<' not supported between instances of 'str' and 'int'"
     ]
    }
   ],
   "source": [
    "lista.sort()"
   ]
  },
  {
   "cell_type": "code",
   "execution_count": 83,
   "id": "8c28c92d-c8db-4ee4-bcdc-7c1e724f86c3",
   "metadata": {},
   "outputs": [],
   "source": [
    "listanum = [4,3,1,6,7,9]\n",
    "listastr = [\"d\",\"f\",\"a\",\"z\",\"j\"]"
   ]
  },
  {
   "cell_type": "code",
   "execution_count": 85,
   "id": "7213112e-87a2-40d0-be18-c7c975c3792d",
   "metadata": {},
   "outputs": [
    {
     "data": {
      "text/plain": [
       "[1, 3, 4, 6, 7, 9]"
      ]
     },
     "execution_count": 85,
     "metadata": {},
     "output_type": "execute_result"
    }
   ],
   "source": [
    "listanum.sort()\n",
    "listanum"
   ]
  },
  {
   "cell_type": "code",
   "execution_count": 87,
   "id": "d28c0ab6-a957-492d-b4f2-aeeaf13ff064",
   "metadata": {},
   "outputs": [
    {
     "data": {
      "text/plain": [
       "['a', 'd', 'f', 'j', 'z']"
      ]
     },
     "execution_count": 87,
     "metadata": {},
     "output_type": "execute_result"
    }
   ],
   "source": [
    "listastr.sort()\n",
    "listastr"
   ]
  },
  {
   "cell_type": "code",
   "execution_count": 88,
   "id": "d1dbeb4a-f205-4f0b-b29c-8c5b452fbfbb",
   "metadata": {},
   "outputs": [
    {
     "data": {
      "text/plain": [
       "[9, 7, 6, 4, 3, 1]"
      ]
     },
     "execution_count": 88,
     "metadata": {},
     "output_type": "execute_result"
    }
   ],
   "source": [
    "listanum.reverse()\n",
    "listanum"
   ]
  },
  {
   "cell_type": "code",
   "execution_count": 89,
   "id": "82360626-0a86-4309-a909-5dacd18949f4",
   "metadata": {},
   "outputs": [
    {
     "data": {
      "text/plain": [
       "['z', 'j', 'f', 'd', 'a']"
      ]
     },
     "execution_count": 89,
     "metadata": {},
     "output_type": "execute_result"
    }
   ],
   "source": [
    "listastr.reverse()\n",
    "listastr"
   ]
  },
  {
   "cell_type": "code",
   "execution_count": 90,
   "id": "8d5bce67-fff8-4e6f-8665-be5f3f618d5f",
   "metadata": {},
   "outputs": [
    {
     "data": {
      "text/plain": [
       "[1, 3, 'python', [4, 5], 2]"
      ]
     },
     "execution_count": 90,
     "metadata": {},
     "output_type": "execute_result"
    }
   ],
   "source": [
    "lista"
   ]
  },
  {
   "cell_type": "code",
   "execution_count": 91,
   "id": "76654d2e-092a-47c4-85ab-11e38fae763f",
   "metadata": {},
   "outputs": [],
   "source": [
    "lista.insert(2,2)\n",
    "lista.insert(-1,2)"
   ]
  },
  {
   "cell_type": "code",
   "execution_count": 92,
   "id": "47bfc18f-9ac7-4b07-ac9d-52d27954f933",
   "metadata": {},
   "outputs": [
    {
     "data": {
      "text/plain": [
       "[1, 3, 2, 'python', [4, 5], 2, 2]"
      ]
     },
     "execution_count": 92,
     "metadata": {},
     "output_type": "execute_result"
    }
   ],
   "source": [
    "lista"
   ]
  },
  {
   "cell_type": "code",
   "execution_count": 93,
   "id": "88913666-5d9d-4a07-8bce-4099eb057ed6",
   "metadata": {},
   "outputs": [
    {
     "data": {
      "text/plain": [
       "3"
      ]
     },
     "execution_count": 93,
     "metadata": {},
     "output_type": "execute_result"
    }
   ],
   "source": [
    "lista.count(2)"
   ]
  },
  {
   "cell_type": "code",
   "execution_count": 94,
   "id": "bf0c008d-7119-4732-a3b8-1b2296efbcc0",
   "metadata": {},
   "outputs": [
    {
     "data": {
      "text/plain": [
       "7"
      ]
     },
     "execution_count": 94,
     "metadata": {},
     "output_type": "execute_result"
    }
   ],
   "source": [
    "len(lista)"
   ]
  },
  {
   "cell_type": "code",
   "execution_count": 95,
   "id": "b7bceb39-cf0f-4722-91f1-da7b6ef9fb4e",
   "metadata": {},
   "outputs": [
    {
     "data": {
      "text/plain": [
       "(1, 2, 3, 'Python')"
      ]
     },
     "execution_count": 95,
     "metadata": {},
     "output_type": "execute_result"
    }
   ],
   "source": [
    "#operaciones con tuplas\n",
    "mi_tupla=(1,2,3,\"Python\")\n",
    "mi_tupla"
   ]
  },
  {
   "cell_type": "code",
   "execution_count": 96,
   "id": "91180792-8321-4b0d-8d50-a1084dbe01fa",
   "metadata": {},
   "outputs": [
    {
     "ename": "AttributeError",
     "evalue": "'tuple' object has no attribute 'insert'",
     "output_type": "error",
     "traceback": [
      "\u001b[0;31m---------------------------------------------------------------------------\u001b[0m",
      "\u001b[0;31mAttributeError\u001b[0m                            Traceback (most recent call last)",
      "Cell \u001b[0;32mIn[96], line 1\u001b[0m\n\u001b[0;32m----> 1\u001b[0m \u001b[43mmi_tupla\u001b[49m\u001b[38;5;241;43m.\u001b[39;49m\u001b[43minsert\u001b[49m(\u001b[38;5;241m0\u001b[39m,\u001b[38;5;241m0\u001b[39m)\n",
      "\u001b[0;31mAttributeError\u001b[0m: 'tuple' object has no attribute 'insert'"
     ]
    }
   ],
   "source": [
    "mi_tupla.insert(0,0)"
   ]
  },
  {
   "cell_type": "code",
   "execution_count": 97,
   "id": "81bc7796-43d9-48ea-8cfe-8571f1479487",
   "metadata": {},
   "outputs": [
    {
     "data": {
      "text/plain": [
       "1"
      ]
     },
     "execution_count": 97,
     "metadata": {},
     "output_type": "execute_result"
    }
   ],
   "source": [
    "mi_tupla[0]"
   ]
  },
  {
   "cell_type": "code",
   "execution_count": 98,
   "id": "3e85c2c3-741a-4391-aca3-62d924c463a0",
   "metadata": {},
   "outputs": [
    {
     "data": {
      "text/plain": [
       "1"
      ]
     },
     "execution_count": 98,
     "metadata": {},
     "output_type": "execute_result"
    }
   ],
   "source": [
    "mi_tupla.count(1)"
   ]
  },
  {
   "cell_type": "code",
   "execution_count": 99,
   "id": "96528944-6a20-4e4c-9857-36e8fd0f95fd",
   "metadata": {},
   "outputs": [
    {
     "data": {
      "text/plain": [
       "3"
      ]
     },
     "execution_count": 99,
     "metadata": {},
     "output_type": "execute_result"
    }
   ],
   "source": [
    "mi_tupla.index('Python')"
   ]
  },
  {
   "cell_type": "code",
   "execution_count": 100,
   "id": "e40c825b-0e3d-4ae9-8e07-4ab790ef1d38",
   "metadata": {},
   "outputs": [
    {
     "data": {
      "text/plain": [
       "[1, 2, 3, 'Python']"
      ]
     },
     "execution_count": 100,
     "metadata": {},
     "output_type": "execute_result"
    }
   ],
   "source": [
    "list(mi_tupla)"
   ]
  },
  {
   "cell_type": "code",
   "execution_count": 101,
   "id": "62ae14ee-98cd-425d-b074-e69fd428ef5d",
   "metadata": {},
   "outputs": [
    {
     "data": {
      "text/plain": [
       "(1, 3, 2, 'python', [4, 5], 2, 2)"
      ]
     },
     "execution_count": 101,
     "metadata": {},
     "output_type": "execute_result"
    }
   ],
   "source": [
    "tuple(lista)"
   ]
  },
  {
   "cell_type": "code",
   "execution_count": 102,
   "id": "f9e2f650-1ea4-42d3-b09d-2306facf90d0",
   "metadata": {},
   "outputs": [],
   "source": [
    "# Operaciones con diccionarios\n",
    "mi_dict = {\"nombre\":\"Python\",\"versión\":3,\"activo\":True}"
   ]
  },
  {
   "cell_type": "code",
   "execution_count": 103,
   "id": "82bed031-ddf2-413d-bff2-649a23d9b967",
   "metadata": {},
   "outputs": [
    {
     "data": {
      "text/plain": [
       "'Python'"
      ]
     },
     "execution_count": 103,
     "metadata": {},
     "output_type": "execute_result"
    }
   ],
   "source": [
    "mi_dict[\"nombre\"]"
   ]
  },
  {
   "cell_type": "code",
   "execution_count": 105,
   "id": "b77bc31c-1d50-4876-9340-1ab99b982c3d",
   "metadata": {},
   "outputs": [],
   "source": [
    "mi_dict[\"año\"] = 2025"
   ]
  },
  {
   "cell_type": "code",
   "execution_count": 106,
   "id": "00471dd8-174c-4a1b-9e51-8c7f4741da68",
   "metadata": {},
   "outputs": [
    {
     "data": {
      "text/plain": [
       "{'nombre': 'Python', 'versión': 3, 'activo': True, 'año': 2025}"
      ]
     },
     "execution_count": 106,
     "metadata": {},
     "output_type": "execute_result"
    }
   ],
   "source": [
    "mi_dict"
   ]
  },
  {
   "cell_type": "code",
   "execution_count": 108,
   "id": "183122cf-d974-44e5-8bf2-c8e78cc9d011",
   "metadata": {},
   "outputs": [
    {
     "name": "stdout",
     "output_type": "stream",
     "text": [
      "dict_keys(['nombre', 'versión', 'activo', 'año'])\n"
     ]
    }
   ],
   "source": [
    "print(mi_dict.keys())"
   ]
  },
  {
   "cell_type": "code",
   "execution_count": 109,
   "id": "438d5c30-cb8b-49ea-8f28-c31613a69ec3",
   "metadata": {},
   "outputs": [
    {
     "data": {
      "text/plain": [
       "dict_values(['Python', 3, True, 2025])"
      ]
     },
     "execution_count": 109,
     "metadata": {},
     "output_type": "execute_result"
    }
   ],
   "source": [
    "mi_dict.values()"
   ]
  },
  {
   "cell_type": "code",
   "execution_count": 110,
   "id": "f4d1d664-79c5-4da5-9645-5504c187ade5",
   "metadata": {},
   "outputs": [
    {
     "data": {
      "text/plain": [
       "dict_items([('nombre', 'Python'), ('versión', 3), ('activo', True), ('año', 2025)])"
      ]
     },
     "execution_count": 110,
     "metadata": {},
     "output_type": "execute_result"
    }
   ],
   "source": [
    "mi_dict.items()"
   ]
  },
  {
   "cell_type": "code",
   "execution_count": 111,
   "id": "9913643c-f9bd-47ea-b7ee-94d9606daa3e",
   "metadata": {},
   "outputs": [
    {
     "data": {
      "text/plain": [
       "{'nombre': 'Python', 'versión': 3, 'activo': True}"
      ]
     },
     "execution_count": 111,
     "metadata": {},
     "output_type": "execute_result"
    }
   ],
   "source": [
    "mi_dict.pop(\"año\")\n",
    "mi_dict"
   ]
  },
  {
   "cell_type": "code",
   "execution_count": 112,
   "id": "ffef114f-b5c0-4a72-af65-e197d28d36ec",
   "metadata": {},
   "outputs": [
    {
     "data": {
      "text/plain": [
       "{}"
      ]
     },
     "execution_count": 112,
     "metadata": {},
     "output_type": "execute_result"
    }
   ],
   "source": [
    "mi_dict.clear()\n",
    "mi_dict"
   ]
  },
  {
   "cell_type": "code",
   "execution_count": 113,
   "id": "2052a469-9bc7-4160-9799-7496952a8710",
   "metadata": {},
   "outputs": [
    {
     "data": {
      "text/plain": [
       "{'lunes': [6103, 7540],\n",
       " 'martes': [6201],\n",
       " 'miércoles': [6103, 7540],\n",
       " 'jueves': [],\n",
       " 'viernes': [6201]}"
      ]
     },
     "execution_count": 113,
     "metadata": {},
     "output_type": "execute_result"
    }
   ],
   "source": [
    "materias = {}\n",
    "materias[\"lunes\"] = [6103, 7540]\n",
    "materias[\"martes\"] = [6201]\n",
    "materias[\"miércoles\"] = [6103, 7540]\n",
    "materias[\"jueves\"] = []\n",
    "materias[\"viernes\"] = [6201]\n",
    "materias"
   ]
  },
  {
   "cell_type": "code",
   "execution_count": 114,
   "id": "53ad8bc6-dcc5-40ae-b1f1-7efd89c92c42",
   "metadata": {},
   "outputs": [
    {
     "ename": "KeyError",
     "evalue": "'domingo'",
     "output_type": "error",
     "traceback": [
      "\u001b[0;31m---------------------------------------------------------------------------\u001b[0m",
      "\u001b[0;31mKeyError\u001b[0m                                  Traceback (most recent call last)",
      "Cell \u001b[0;32mIn[114], line 1\u001b[0m\n\u001b[0;32m----> 1\u001b[0m \u001b[38;5;28mprint\u001b[39m(\u001b[43mmaterias\u001b[49m\u001b[43m[\u001b[49m\u001b[38;5;124;43m\"\u001b[39;49m\u001b[38;5;124;43mdomingo\u001b[39;49m\u001b[38;5;124;43m\"\u001b[39;49m\u001b[43m]\u001b[49m) \u001b[38;5;66;03m# KeyError\u001b[39;00m\n",
      "\u001b[0;31mKeyError\u001b[0m: 'domingo'"
     ]
    }
   ],
   "source": [
    "print(materias[\"domingo\"]) # KeyError"
   ]
  },
  {
   "cell_type": "code",
   "execution_count": 117,
   "id": "43167be7-054e-47e7-b48b-b03010a86f46",
   "metadata": {},
   "outputs": [
    {
     "name": "stdout",
     "output_type": "stream",
     "text": [
      "[6103, 7540]\n"
     ]
    }
   ],
   "source": [
    "print(materias.get(\"miércoles\", \"no existe\")) # “no existe”"
   ]
  },
  {
   "cell_type": "code",
   "execution_count": 118,
   "id": "dac47595-1ed0-4204-90d6-22e464b5411b",
   "metadata": {},
   "outputs": [
    {
     "data": {
      "text/plain": [
       "[1, 3, 2, 'python', [4, 5], 2, 2]"
      ]
     },
     "execution_count": 118,
     "metadata": {},
     "output_type": "execute_result"
    }
   ],
   "source": [
    "lista"
   ]
  },
  {
   "cell_type": "code",
   "execution_count": 119,
   "id": "f9603e9c-fa26-45f6-886f-12562f09ff01",
   "metadata": {},
   "outputs": [
    {
     "name": "stdout",
     "output_type": "stream",
     "text": [
      "1\n",
      "3\n"
     ]
    }
   ],
   "source": [
    "print(lista[0])\n",
    "print(lista[1])"
   ]
  },
  {
   "cell_type": "code",
   "execution_count": 120,
   "id": "f42ded7d-62c3-4222-a1fa-c9f0fce9a267",
   "metadata": {},
   "outputs": [
    {
     "ename": "NameError",
     "evalue": "name 'elemento' is not defined",
     "output_type": "error",
     "traceback": [
      "\u001b[0;31m---------------------------------------------------------------------------\u001b[0m",
      "\u001b[0;31mNameError\u001b[0m                                 Traceback (most recent call last)",
      "Cell \u001b[0;32mIn[120], line 1\u001b[0m\n\u001b[0;32m----> 1\u001b[0m \u001b[43melemento\u001b[49m\n",
      "\u001b[0;31mNameError\u001b[0m: name 'elemento' is not defined"
     ]
    }
   ],
   "source": [
    "elemento"
   ]
  },
  {
   "cell_type": "code",
   "execution_count": 122,
   "id": "56e50eab-f58d-4cc2-bbe9-3c770ba6f10a",
   "metadata": {},
   "outputs": [
    {
     "name": "stdout",
     "output_type": "stream",
     "text": [
      "1\n",
      "3\n",
      "2\n",
      "python\n",
      "[4, 5]\n",
      "2\n",
      "2\n"
     ]
    }
   ],
   "source": [
    "for x in lista:\n",
    "    print(x)\n",
    "    "
   ]
  },
  {
   "cell_type": "code",
   "execution_count": 123,
   "id": "bb1af8dd-08f4-473c-8c77-317d7e1d02ad",
   "metadata": {},
   "outputs": [
    {
     "name": "stdout",
     "output_type": "stream",
     "text": [
      "1\n",
      "2\n",
      "3\n",
      "Python\n"
     ]
    }
   ],
   "source": [
    "for x in mi_tupla:\n",
    "    print(x)"
   ]
  },
  {
   "cell_type": "code",
   "execution_count": 126,
   "id": "1a6d355c-efd0-4689-8cc5-e2de510ca78a",
   "metadata": {},
   "outputs": [
    {
     "name": "stdout",
     "output_type": "stream",
     "text": [
      "15\n",
      "20\n",
      "25\n",
      "30\n",
      "35\n"
     ]
    }
   ],
   "source": [
    "for x in [1,2,3,4,5]:\n",
    "    res = x+2\n",
    "    res = res * 5\n",
    "    print(res)"
   ]
  },
  {
   "cell_type": "code",
   "execution_count": 127,
   "id": "28f0ccbb-c517-425b-9f6d-7feaeee9e4e4",
   "metadata": {},
   "outputs": [
    {
     "data": {
      "text/plain": [
       "{'lunes': [6103, 7540],\n",
       " 'martes': [6201],\n",
       " 'miércoles': [6103, 7540],\n",
       " 'jueves': [],\n",
       " 'viernes': [6201]}"
      ]
     },
     "execution_count": 127,
     "metadata": {},
     "output_type": "execute_result"
    }
   ],
   "source": [
    "materias"
   ]
  },
  {
   "cell_type": "code",
   "execution_count": 128,
   "id": "d4283afa-2896-4ef6-a589-ddc957ccc3b8",
   "metadata": {},
   "outputs": [
    {
     "name": "stdout",
     "output_type": "stream",
     "text": [
      "lunes\n",
      "martes\n",
      "miércoles\n",
      "jueves\n",
      "viernes\n"
     ]
    }
   ],
   "source": [
    "for dia in materias:\n",
    "    print(dia)"
   ]
  },
  {
   "cell_type": "code",
   "execution_count": 130,
   "id": "097f3a0b-9556-490c-8a89-9fb37b541517",
   "metadata": {},
   "outputs": [
    {
     "name": "stdout",
     "output_type": "stream",
     "text": [
      "lunes: [6103, 7540]\n",
      "martes: [6201]\n",
      "miércoles: [6103, 7540]\n",
      "jueves: []\n",
      "viernes: [6201]\n"
     ]
    }
   ],
   "source": [
    "for dia in materias:\n",
    "    print(dia + \":\" + \" \" + str(materias[dia]))"
   ]
  },
  {
   "cell_type": "code",
   "execution_count": 131,
   "id": "a0b6024d-88d0-4997-981b-716d15464bc5",
   "metadata": {},
   "outputs": [
    {
     "name": "stdout",
     "output_type": "stream",
     "text": [
      "lunes: [6103, 7540]\n",
      "martes: [6201]\n",
      "miércoles: [6103, 7540]\n",
      "jueves: []\n",
      "viernes: [6201]\n"
     ]
    }
   ],
   "source": [
    "for dia,codigo in materias.items():\n",
    "    print(dia + \": \" + str(codigo))"
   ]
  },
  {
   "cell_type": "code",
   "execution_count": 132,
   "id": "7e8e3437-c533-4b71-bb55-4eda85383716",
   "metadata": {},
   "outputs": [
    {
     "data": {
      "text/plain": [
       "[9, 7, 6, 4, 3, 1]"
      ]
     },
     "execution_count": 132,
     "metadata": {},
     "output_type": "execute_result"
    }
   ],
   "source": [
    "listanum"
   ]
  },
  {
   "cell_type": "code",
   "execution_count": 142,
   "id": "bd8c2886-8d1e-4056-b2f7-307c35f0f75f",
   "metadata": {},
   "outputs": [
    {
     "name": "stdout",
     "output_type": "stream",
     "text": [
      " no cumple la condición\n",
      " no cumple la condición\n",
      " no cumple la condición\n",
      "4\n",
      " no cumple la condición\n",
      " no cumple la condición\n"
     ]
    }
   ],
   "source": [
    "for i in listanum:\n",
    "    if i == 4: # va primero la palabra reservada \"if\" y después va la condición\n",
    "        print(i)\n",
    "    else:\n",
    "        print(\" no cumple la condición\")"
   ]
  },
  {
   "cell_type": "code",
   "execution_count": 139,
   "id": "258e08a6-0f27-40cb-9a18-9f539760562d",
   "metadata": {},
   "outputs": [
    {
     "data": {
      "text/plain": [
       "'\\nCondicionales\\nmayor que >\\nmenor que <\\nmayor que o igual >=\\nmenor que o igual <=\\nigual ==\\ndiferente !=\\n'"
      ]
     },
     "execution_count": 139,
     "metadata": {},
     "output_type": "execute_result"
    }
   ],
   "source": [
    "\"\"\"\n",
    "Condicionales:\n",
    "\n",
    "mayor que >\n",
    "menor que <\n",
    "mayor que o igual >=\n",
    "menor que o igual <=\n",
    "igual ==\n",
    "diferente !=\n",
    "\"\"\""
   ]
  },
  {
   "cell_type": "code",
   "execution_count": 143,
   "id": "b8573b69-df35-4a04-956b-3c6ec0670dec",
   "metadata": {},
   "outputs": [
    {
     "name": "stdout",
     "output_type": "stream",
     "text": [
      "10\n",
      "9\n",
      "8\n",
      "7\n",
      "6\n"
     ]
    }
   ],
   "source": [
    "# Otra manera de hacer bucles con while\n",
    "i = 10\n",
    "while i > 5:\n",
    "    print(i)\n",
    "    i = i -1\n",
    "    \n",
    "    "
   ]
  },
  {
   "cell_type": "code",
   "execution_count": 144,
   "id": "28850b45-b372-4389-b779-ffcdad9eb442",
   "metadata": {},
   "outputs": [],
   "source": [
    "Juan = [10,9,8,10]\n",
    "Pame = [9,9,6,9]\n",
    "Fede = [7,8,6,7]"
   ]
  },
  {
   "cell_type": "code",
   "execution_count": 147,
   "id": "08fb5f5b-23a8-4508-81c8-780dae0a2601",
   "metadata": {},
   "outputs": [
    {
     "data": {
      "text/plain": [
       "9.25"
      ]
     },
     "execution_count": 147,
     "metadata": {},
     "output_type": "execute_result"
    }
   ],
   "source": [
    "promedioJuan = sum(Juan)/len(Juan)\n",
    "promedioJuan"
   ]
  },
  {
   "cell_type": "code",
   "execution_count": 153,
   "id": "31bcfbf9-7886-481c-83be-689eddd0c933",
   "metadata": {},
   "outputs": [],
   "source": [
    "def promedio(cal):\n",
    "    prome = sum(cal)/len(cal)\n",
    "    print(prome)"
   ]
  },
  {
   "cell_type": "code",
   "execution_count": 154,
   "id": "7cc54741-c715-4d56-b30c-e98f27f24696",
   "metadata": {},
   "outputs": [
    {
     "name": "stdout",
     "output_type": "stream",
     "text": [
      "9.25\n"
     ]
    }
   ],
   "source": [
    "promedio(Juan)"
   ]
  },
  {
   "cell_type": "code",
   "execution_count": 155,
   "id": "72302477-514a-430e-8653-b2c015e72516",
   "metadata": {},
   "outputs": [
    {
     "name": "stdout",
     "output_type": "stream",
     "text": [
      "8.25\n"
     ]
    }
   ],
   "source": [
    "promedio(Pame)"
   ]
  },
  {
   "cell_type": "code",
   "execution_count": 156,
   "id": "8ba1bed3-a103-4160-82de-549d2a4ad570",
   "metadata": {},
   "outputs": [
    {
     "name": "stdout",
     "output_type": "stream",
     "text": [
      "7.0\n"
     ]
    }
   ],
   "source": [
    "promedio(Fede)"
   ]
  },
  {
   "cell_type": "markdown",
   "id": "c41cc052-3cd6-45cb-8a26-c9c4470eb4a0",
   "metadata": {},
   "source": [
    "1. Escribe una función que reciba una lista de números y devuelva la suma acumulada, es decir, una nueva lista donde el primer elemento es el mismo, el segundo elemento es la suma del primero con el segundo, el tercer elemento es la suma del resultado anterior con el siguiente elemento y así sucesivamente. Por ejemplo, la suma acumulada de [1,2,3] es [1, 3, 6]."
   ]
  },
  {
   "cell_type": "code",
   "execution_count": 164,
   "id": "f3824c5a-0464-4298-8859-495780359b08",
   "metadata": {},
   "outputs": [],
   "source": [
    "# Manera menos eficiente que solo funciona con listas de 3 elementos\n",
    "def sumacum(listanum):\n",
    "    nuevalista = []\n",
    "    nuevalista.append(listanum[0])\n",
    "    nuevalista.append(listanum[0]+listanum[1])\n",
    "    nuevalista.append(listanum[0]+listanum[1]+listanum[2]) \n",
    "    print(nuevalista)\n",
    "    "
   ]
  },
  {
   "cell_type": "code",
   "execution_count": 165,
   "id": "e8f766ec-cd04-4b1f-8f34-436eb7b338bd",
   "metadata": {},
   "outputs": [],
   "source": [
    "entrada = [1,2,3]"
   ]
  },
  {
   "cell_type": "code",
   "execution_count": 166,
   "id": "11f60c5f-2e36-46d3-9e42-6dfa32b12727",
   "metadata": {},
   "outputs": [
    {
     "name": "stdout",
     "output_type": "stream",
     "text": [
      "[1, 3, 6]\n"
     ]
    }
   ],
   "source": [
    "sumacum(entrada)"
   ]
  },
  {
   "cell_type": "code",
   "execution_count": 167,
   "id": "6a9f3d1d-c46e-4efe-af52-245dae9b5d3a",
   "metadata": {},
   "outputs": [],
   "source": [
    "#Manera en la que se puede acoplar a más valores\n",
    "def sumacum2(lista):\n",
    "    nuevalista = []\n",
    "    valortemp = 0\n",
    "    for x in lista: # estoy iterando por valor\n",
    "        valortemp = valortemp + x\n",
    "        nuevalista.append(valortemp)\n",
    "    print(nuevalista)\n",
    "        "
   ]
  },
  {
   "cell_type": "code",
   "execution_count": 168,
   "id": "fae07321-b984-4867-af4e-85edf49ef0c0",
   "metadata": {},
   "outputs": [
    {
     "name": "stdout",
     "output_type": "stream",
     "text": [
      "[1, 3, 6]\n"
     ]
    }
   ],
   "source": [
    "sumacum2(entrada)"
   ]
  },
  {
   "cell_type": "code",
   "execution_count": 169,
   "id": "387439b9-2f64-4921-9572-68de99d55721",
   "metadata": {},
   "outputs": [
    {
     "name": "stdout",
     "output_type": "stream",
     "text": [
      "[1, 3, 6, 10, 15, 21, 28]\n"
     ]
    }
   ],
   "source": [
    "sumacum2([1,2,3,4,5,6,7])"
   ]
  },
  {
   "cell_type": "code",
   "execution_count": 170,
   "id": "eebdb6b9-0af0-4a3c-a90f-874276965a32",
   "metadata": {},
   "outputs": [],
   "source": [
    "# Manera en que puede ser más eficiente\n",
    "def sumacum3(lista):\n",
    "    valortemp = 0\n",
    "    for i in range(0,len(lista)): # estoy iterando por indice no por valor\n",
    "        valortemp = valortemp + lista[i]\n",
    "        lista[i] = valortemp\n",
    "    print(lista)\n",
    "         \n",
    "        "
   ]
  },
  {
   "cell_type": "code",
   "execution_count": 171,
   "id": "69fccb71-e331-4459-b6d3-8497b9359601",
   "metadata": {},
   "outputs": [
    {
     "name": "stdout",
     "output_type": "stream",
     "text": [
      "[1, 3, 6]\n"
     ]
    }
   ],
   "source": [
    "sumacum3(entrada)"
   ]
  },
  {
   "cell_type": "markdown",
   "id": "f6eeeb41-9ff9-47ed-bfee-ff86d67d05a6",
   "metadata": {},
   "source": [
    "2. Escribe una función llamada \"elimina\" que tome una lista y elimine el primer y último elemento de la lista y cree una nueva lista con los elementos que no fueron eliminados."
   ]
  },
  {
   "cell_type": "code",
   "execution_count": 172,
   "id": "276e6c4f-afaf-4cc4-80e2-14f3298eb432",
   "metadata": {},
   "outputs": [],
   "source": [
    "def elimina(lista):\n",
    "    lista.pop() # ya elimine el ultimo valor\n",
    "    lista.pop(0) # ya elimine el primer valor\n",
    "    nuevalista = lista\n",
    "    print(nuevalista)\n",
    "    "
   ]
  },
  {
   "cell_type": "code",
   "execution_count": 173,
   "id": "1d6b4e07-5403-43e6-a3a7-8f927b54a8ef",
   "metadata": {},
   "outputs": [
    {
     "name": "stdout",
     "output_type": "stream",
     "text": [
      "[3]\n"
     ]
    }
   ],
   "source": [
    "elimina([1,3,6])"
   ]
  },
  {
   "cell_type": "code",
   "execution_count": 203,
   "id": "2a31c41a-6788-4fa8-ac5c-d05d322e2d31",
   "metadata": {},
   "outputs": [],
   "source": [
    "lista = [1,2,3]\n",
    "lista2 = lista.copy()\n",
    "lista2.sort()"
   ]
  },
  {
   "cell_type": "code",
   "execution_count": 204,
   "id": "80dd4911-7d74-4932-af2b-9ead34d9a357",
   "metadata": {},
   "outputs": [
    {
     "data": {
      "text/plain": [
       "True"
      ]
     },
     "execution_count": 204,
     "metadata": {},
     "output_type": "execute_result"
    }
   ],
   "source": [
    "lista == lista2"
   ]
  },
  {
   "cell_type": "code",
   "execution_count": 192,
   "id": "ba9e656e-b55d-4461-89cd-624479ceefe5",
   "metadata": {},
   "outputs": [
    {
     "data": {
      "text/plain": [
       "[3, 2, 1]"
      ]
     },
     "execution_count": 192,
     "metadata": {},
     "output_type": "execute_result"
    }
   ],
   "source": [
    "lista.reverse()\n",
    "lista"
   ]
  },
  {
   "cell_type": "code",
   "execution_count": 193,
   "id": "fc93270d-fa5f-423b-a021-1472e44fa780",
   "metadata": {},
   "outputs": [
    {
     "data": {
      "text/plain": [
       "[3, 2, 1]"
      ]
     },
     "execution_count": 193,
     "metadata": {},
     "output_type": "execute_result"
    }
   ],
   "source": [
    "lista2"
   ]
  },
  {
   "cell_type": "markdown",
   "id": "b7aace66-39f0-489d-b80c-67a2d2fc82bc",
   "metadata": {},
   "source": [
    "3. Escribe una función \"ordenada\" que reciba una lista como parámetro y devuelva True si la lista está ordenada en orden ascendente y devuelva False en caso contrario.Por ejemplo, ordenada([1, 2, 3]) retorna True y ordenada([b, a]) retorna False."
   ]
  },
  {
   "cell_type": "code",
   "execution_count": 205,
   "id": "d34e3d57-0c5d-4b8d-970e-3d2955a880e4",
   "metadata": {},
   "outputs": [],
   "source": [
    "def ordenada(lista):\n",
    "    lista2 = lista.copy()\n",
    "    lista2.sort()\n",
    "    if lista == lista2:\n",
    "        print(\"True\")\n",
    "    else:\n",
    "        print(\"False\")"
   ]
  },
  {
   "cell_type": "code",
   "execution_count": 210,
   "id": "dc96657d-cb7b-4b38-9bb3-7262790ac062",
   "metadata": {},
   "outputs": [
    {
     "name": "stdout",
     "output_type": "stream",
     "text": [
      "False\n"
     ]
    }
   ],
   "source": [
    "ordenada([4,5,2,1])"
   ]
  },
  {
   "cell_type": "code",
   "execution_count": 211,
   "id": "f7d19537-1e43-4226-863c-f1d58ec088f0",
   "metadata": {},
   "outputs": [
    {
     "name": "stdout",
     "output_type": "stream",
     "text": [
      "True\n"
     ]
    }
   ],
   "source": [
    "ordenada([1,2,3])"
   ]
  },
  {
   "cell_type": "code",
   "execution_count": 212,
   "id": "4a64f0ad-23ca-4b85-923f-ea281c75d5b8",
   "metadata": {},
   "outputs": [
    {
     "data": {
      "text/plain": [
       "[1, 2, 3]"
      ]
     },
     "execution_count": 212,
     "metadata": {},
     "output_type": "execute_result"
    }
   ],
   "source": [
    "lista = [1,2,3]\n",
    "lista"
   ]
  },
  {
   "cell_type": "code",
   "execution_count": 214,
   "id": "d7105a07-1c9a-4f52-882c-b20db157e7dd",
   "metadata": {},
   "outputs": [
    {
     "data": {
      "text/plain": [
       "['a', 'b', 'c']"
      ]
     },
     "execution_count": 214,
     "metadata": {},
     "output_type": "execute_result"
    }
   ],
   "source": [
    "lista=[\"a\",\"b\",\"c\"]\n",
    "lista"
   ]
  },
  {
   "cell_type": "code",
   "execution_count": null,
   "id": "c9c72be5-af08-4adf-a670-f42267003ad8",
   "metadata": {},
   "outputs": [],
   "source": []
  }
 ],
 "metadata": {
  "kernelspec": {
   "display_name": "Python 3 (ipykernel)",
   "language": "python",
   "name": "python3"
  },
  "language_info": {
   "codemirror_mode": {
    "name": "ipython",
    "version": 3
   },
   "file_extension": ".py",
   "mimetype": "text/x-python",
   "name": "python",
   "nbconvert_exporter": "python",
   "pygments_lexer": "ipython3",
   "version": "3.9.6"
  }
 },
 "nbformat": 4,
 "nbformat_minor": 5
}
