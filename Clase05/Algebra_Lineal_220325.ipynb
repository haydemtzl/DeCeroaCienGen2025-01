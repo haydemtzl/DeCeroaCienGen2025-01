{
 "cells": [
  {
   "cell_type": "code",
   "execution_count": 2,
   "id": "9eac7d05-2ff8-476e-ad4e-bb04947f5fa0",
   "metadata": {},
   "outputs": [],
   "source": [
    "import numpy as np "
   ]
  },
  {
   "cell_type": "code",
   "execution_count": 3,
   "id": "044dc5aa-0556-402c-9e65-9e90dd8c8c93",
   "metadata": {},
   "outputs": [],
   "source": [
    "# Creando una lista normal de python\n",
    "v1 = [2,4,6]"
   ]
  },
  {
   "cell_type": "code",
   "execution_count": 4,
   "id": "201c78c8-767e-4b55-8369-158d00ad0076",
   "metadata": {},
   "outputs": [],
   "source": [
    "# Creando un arrgelo/vector de numpy\n",
    "v2 = np.array([2,4,6])"
   ]
  },
  {
   "cell_type": "code",
   "execution_count": 5,
   "id": "0d343345-cfd7-4f48-b0e9-25649b36d5b1",
   "metadata": {},
   "outputs": [
    {
     "data": {
      "text/plain": [
       "list"
      ]
     },
     "execution_count": 5,
     "metadata": {},
     "output_type": "execute_result"
    }
   ],
   "source": [
    "type(v1)"
   ]
  },
  {
   "cell_type": "code",
   "execution_count": 6,
   "id": "628d0f40-3cec-48c6-a4fa-8a6de5430c70",
   "metadata": {},
   "outputs": [
    {
     "data": {
      "text/plain": [
       "numpy.ndarray"
      ]
     },
     "execution_count": 6,
     "metadata": {},
     "output_type": "execute_result"
    }
   ],
   "source": [
    "type(v2)"
   ]
  },
  {
   "cell_type": "code",
   "execution_count": 7,
   "id": "aa04c968-c6f8-48ae-809d-841bfd06a40e",
   "metadata": {},
   "outputs": [
    {
     "data": {
      "text/plain": [
       "array([1., 1., 1.])"
      ]
     },
     "execution_count": 7,
     "metadata": {},
     "output_type": "execute_result"
    }
   ],
   "source": [
    "# Crea un vector con unos, del tamaño que yo le indique en el argumento\n",
    "v3 = np.ones(3)\n",
    "v3"
   ]
  },
  {
   "cell_type": "code",
   "execution_count": 8,
   "id": "9a97dcf0-2eb9-4b48-b3e7-f8111c4d3fcf",
   "metadata": {},
   "outputs": [
    {
     "data": {
      "text/plain": [
       "array([1, 2, 3, 4, 5, 6, 7])"
      ]
     },
     "execution_count": 8,
     "metadata": {},
     "output_type": "execute_result"
    }
   ],
   "source": [
    "# Crear un vector dentro de un rango especificado (inicio, fin (hasta antes de))\n",
    "v4 = np.arange(1,8)\n",
    "v4"
   ]
  },
  {
   "cell_type": "code",
   "execution_count": 9,
   "id": "51bb50ba-1c54-44b1-9b8f-8afb3889e541",
   "metadata": {},
   "outputs": [],
   "source": [
    "# suma con listas de python\n",
    "v5 = [1,2,3,4]\n",
    "v6 = [5,6,7,8]"
   ]
  },
  {
   "cell_type": "code",
   "execution_count": 10,
   "id": "12164460-b452-4f34-8b32-63471f576e01",
   "metadata": {},
   "outputs": [
    {
     "data": {
      "text/plain": [
       "[1, 2, 3, 4, 5, 6, 7, 8]"
      ]
     },
     "execution_count": 10,
     "metadata": {},
     "output_type": "execute_result"
    }
   ],
   "source": [
    "v5+v6"
   ]
  },
  {
   "cell_type": "code",
   "execution_count": 15,
   "id": "d17fd718-0ea1-44f7-85bc-141327226132",
   "metadata": {},
   "outputs": [
    {
     "ename": "TypeError",
     "evalue": "unsupported operand type(s) for -: 'list' and 'list'",
     "output_type": "error",
     "traceback": [
      "\u001b[0;31m---------------------------------------------------------------------------\u001b[0m",
      "\u001b[0;31mTypeError\u001b[0m                                 Traceback (most recent call last)",
      "Cell \u001b[0;32mIn[15], line 1\u001b[0m\n\u001b[0;32m----> 1\u001b[0m \u001b[43mv5\u001b[49m\u001b[38;5;241;43m-\u001b[39;49m\u001b[43mv6\u001b[49m\n",
      "\u001b[0;31mTypeError\u001b[0m: unsupported operand type(s) for -: 'list' and 'list'"
     ]
    }
   ],
   "source": [
    "v5-v6"
   ]
  },
  {
   "cell_type": "code",
   "execution_count": 18,
   "id": "057a9ec1-fb17-4f49-bd50-da67f789c82b",
   "metadata": {},
   "outputs": [
    {
     "data": {
      "text/plain": [
       "[1,\n",
       " 2,\n",
       " 3,\n",
       " 4,\n",
       " 1,\n",
       " 2,\n",
       " 3,\n",
       " 4,\n",
       " 1,\n",
       " 2,\n",
       " 3,\n",
       " 4,\n",
       " 1,\n",
       " 2,\n",
       " 3,\n",
       " 4,\n",
       " 1,\n",
       " 2,\n",
       " 3,\n",
       " 4,\n",
       " 1,\n",
       " 2,\n",
       " 3,\n",
       " 4,\n",
       " 1,\n",
       " 2,\n",
       " 3,\n",
       " 4]"
      ]
     },
     "execution_count": 18,
     "metadata": {},
     "output_type": "execute_result"
    }
   ],
   "source": [
    "v5 * 7"
   ]
  },
  {
   "cell_type": "code",
   "execution_count": 13,
   "id": "0e324780-5db9-40fb-9873-133d38009a22",
   "metadata": {},
   "outputs": [],
   "source": [
    "#suma con arreglos/vectores de numpy\n",
    "v7 = np.array([1,2,3,4])\n",
    "v8 = np.array([5,6,7,8])"
   ]
  },
  {
   "cell_type": "code",
   "execution_count": 14,
   "id": "1b844cfc-4cab-49a5-bd25-1b38c7b8adbc",
   "metadata": {},
   "outputs": [
    {
     "data": {
      "text/plain": [
       "array([ 6,  8, 10, 12])"
      ]
     },
     "execution_count": 14,
     "metadata": {},
     "output_type": "execute_result"
    }
   ],
   "source": [
    "v7+v8"
   ]
  },
  {
   "cell_type": "code",
   "execution_count": 17,
   "id": "70e5c7e6-590f-438a-9dc7-e5748501fce8",
   "metadata": {},
   "outputs": [
    {
     "data": {
      "text/plain": [
       "array([-4, -4, -4, -4])"
      ]
     },
     "execution_count": 17,
     "metadata": {},
     "output_type": "execute_result"
    }
   ],
   "source": [
    "#resta\n",
    "v7-v8"
   ]
  },
  {
   "cell_type": "code",
   "execution_count": 19,
   "id": "cfc27758-68cd-4380-a07f-4797868392cd",
   "metadata": {},
   "outputs": [
    {
     "data": {
      "text/plain": [
       "array([ 7, 14, 21, 28])"
      ]
     },
     "execution_count": 19,
     "metadata": {},
     "output_type": "execute_result"
    }
   ],
   "source": [
    "# multiplicación\n",
    "v7*7"
   ]
  },
  {
   "cell_type": "code",
   "execution_count": 21,
   "id": "e7a1c07a-f8b5-4188-9a1d-e02054ad4d4f",
   "metadata": {},
   "outputs": [
    {
     "data": {
      "text/plain": [
       "32"
      ]
     },
     "execution_count": 21,
     "metadata": {},
     "output_type": "execute_result"
    }
   ],
   "source": [
    "# Producto punto, escalar o interior\n",
    "\n",
    "x = np.array([1,2,3])\n",
    "y = np.array([4,5,6])\n",
    "\n",
    "sum(x*y)"
   ]
  },
  {
   "cell_type": "code",
   "execution_count": 22,
   "id": "ad0776d0-a023-4209-a09d-39fba330191b",
   "metadata": {},
   "outputs": [
    {
     "data": {
      "text/plain": [
       "32"
      ]
     },
     "execution_count": 22,
     "metadata": {},
     "output_type": "execute_result"
    }
   ],
   "source": [
    "np.dot(x,y)"
   ]
  },
  {
   "cell_type": "code",
   "execution_count": 23,
   "id": "d51595d9-0d57-43e8-b203-e142de93dc59",
   "metadata": {},
   "outputs": [
    {
     "data": {
      "text/plain": [
       "5.477225575051661"
      ]
     },
     "execution_count": 23,
     "metadata": {},
     "output_type": "execute_result"
    }
   ],
   "source": [
    "#Calculando la norma\n",
    "\n",
    "x1 = np.array([1,2,3,4])\n",
    "np.linalg.norm(x1)"
   ]
  },
  {
   "cell_type": "code",
   "execution_count": 26,
   "id": "ab0f85ff-8898-4067-8b20-fbed39f8e8cc",
   "metadata": {},
   "outputs": [
    {
     "data": {
      "text/plain": [
       "array([[1, 3, 2],\n",
       "       [1, 0, 0],\n",
       "       [1, 2, 2]])"
      ]
     },
     "execution_count": 26,
     "metadata": {},
     "output_type": "execute_result"
    }
   ],
   "source": [
    "# Operaciones con matrices\n",
    "\n",
    "A = np.array([[1,3,2],\n",
    "             [1,0,0],\n",
    "             [1,2,2]])\n",
    "A"
   ]
  },
  {
   "cell_type": "code",
   "execution_count": 27,
   "id": "5aa5b4b7-3cfa-4cf2-b36c-7e239ab91aa5",
   "metadata": {},
   "outputs": [
    {
     "data": {
      "text/plain": [
       "array([[2, 6, 4],\n",
       "       [2, 0, 0],\n",
       "       [2, 4, 4]])"
      ]
     },
     "execution_count": 27,
     "metadata": {},
     "output_type": "execute_result"
    }
   ],
   "source": [
    "# Multiplicación por escalar\n",
    "A * 2"
   ]
  },
  {
   "cell_type": "code",
   "execution_count": 28,
   "id": "2b5729c6-ff19-4d37-9a1f-8c244fb71287",
   "metadata": {},
   "outputs": [],
   "source": [
    "B = np.array([[1,0,5],\n",
    "              [7,5,0],\n",
    "              [2,1,1]])"
   ]
  },
  {
   "cell_type": "code",
   "execution_count": 29,
   "id": "6c8dc9b1-4f1b-4e37-823a-3389ebf607e8",
   "metadata": {},
   "outputs": [
    {
     "data": {
      "text/plain": [
       "array([[2, 3, 7],\n",
       "       [8, 5, 0],\n",
       "       [3, 3, 3]])"
      ]
     },
     "execution_count": 29,
     "metadata": {},
     "output_type": "execute_result"
    }
   ],
   "source": [
    "# Suma de matrices\n",
    "A + B"
   ]
  },
  {
   "cell_type": "code",
   "execution_count": 30,
   "id": "29654bbf-4d8e-4ba8-a12e-c693394b77f3",
   "metadata": {},
   "outputs": [
    {
     "data": {
      "text/plain": [
       "array([[ 0,  3, -3],\n",
       "       [-6, -5,  0],\n",
       "       [-1,  1,  1]])"
      ]
     },
     "execution_count": 30,
     "metadata": {},
     "output_type": "execute_result"
    }
   ],
   "source": [
    "# Resta de matrices\n",
    "A - B"
   ]
  },
  {
   "cell_type": "code",
   "execution_count": 31,
   "id": "273245f7-f747-4d6f-a37a-f3e4f0154d20",
   "metadata": {},
   "outputs": [
    {
     "data": {
      "text/plain": [
       "(3, 3)"
      ]
     },
     "execution_count": 31,
     "metadata": {},
     "output_type": "execute_result"
    }
   ],
   "source": [
    "# Para ver la dimensión de una matriz\n",
    "A.shape"
   ]
  },
  {
   "cell_type": "code",
   "execution_count": 32,
   "id": "97e0d257-8969-45dd-bb8d-9639c3e4fa22",
   "metadata": {},
   "outputs": [
    {
     "data": {
      "text/plain": [
       "9"
      ]
     },
     "execution_count": 32,
     "metadata": {},
     "output_type": "execute_result"
    }
   ],
   "source": [
    "# Para ver la cantidad de elementos\n",
    "A.size"
   ]
  },
  {
   "cell_type": "code",
   "execution_count": 33,
   "id": "04012aa9-c735-4924-a1b2-b1d8fb61f761",
   "metadata": {},
   "outputs": [
    {
     "data": {
      "text/plain": [
       "array([[ 1,  2,  3,  4],\n",
       "       [ 5,  6,  7,  8],\n",
       "       [ 9, 10, 11, 12]])"
      ]
     },
     "execution_count": 33,
     "metadata": {},
     "output_type": "execute_result"
    }
   ],
   "source": [
    "# Multiplicación de matrices\n",
    "\n",
    "A1 = np.arange(1,13).reshape(3,4)\n",
    "A1"
   ]
  },
  {
   "cell_type": "code",
   "execution_count": 34,
   "id": "39fc6587-b4dd-49f4-9ea7-ab0301e62ff2",
   "metadata": {},
   "outputs": [
    {
     "data": {
      "text/plain": [
       "array([[0, 1],\n",
       "       [2, 3],\n",
       "       [4, 5],\n",
       "       [6, 7]])"
      ]
     },
     "execution_count": 34,
     "metadata": {},
     "output_type": "execute_result"
    }
   ],
   "source": [
    "B1 = np.arange(8).reshape(4,2)\n",
    "B1"
   ]
  },
  {
   "cell_type": "code",
   "execution_count": 35,
   "id": "27983244-12e0-4004-a1b7-061ccf365c15",
   "metadata": {},
   "outputs": [
    {
     "data": {
      "text/plain": [
       "array([[ 40,  50],\n",
       "       [ 88, 114],\n",
       "       [136, 178]])"
      ]
     },
     "execution_count": 35,
     "metadata": {},
     "output_type": "execute_result"
    }
   ],
   "source": [
    "A1 @ B1"
   ]
  },
  {
   "cell_type": "code",
   "execution_count": 36,
   "id": "821924c4-044f-4528-b0f6-c2a7acce3082",
   "metadata": {},
   "outputs": [
    {
     "ename": "ValueError",
     "evalue": "matmul: Input operand 1 has a mismatch in its core dimension 0, with gufunc signature (n?,k),(k,m?)->(n?,m?) (size 3 is different from 2)",
     "output_type": "error",
     "traceback": [
      "\u001b[0;31m---------------------------------------------------------------------------\u001b[0m",
      "\u001b[0;31mValueError\u001b[0m                                Traceback (most recent call last)",
      "Cell \u001b[0;32mIn[36], line 1\u001b[0m\n\u001b[0;32m----> 1\u001b[0m \u001b[43mB1\u001b[49m\u001b[43m \u001b[49m\u001b[38;5;241;43m@\u001b[39;49m\u001b[43m \u001b[49m\u001b[43mA1\u001b[49m\n",
      "\u001b[0;31mValueError\u001b[0m: matmul: Input operand 1 has a mismatch in its core dimension 0, with gufunc signature (n?,k),(k,m?)->(n?,m?) (size 3 is different from 2)"
     ]
    }
   ],
   "source": [
    "B1 @ A1"
   ]
  },
  {
   "cell_type": "code",
   "execution_count": null,
   "id": "1c9169af-8c74-4315-b728-5e3a124c3f01",
   "metadata": {},
   "outputs": [],
   "source": []
  }
 ],
 "metadata": {
  "kernelspec": {
   "display_name": "Python 3 (ipykernel)",
   "language": "python",
   "name": "python3"
  },
  "language_info": {
   "codemirror_mode": {
    "name": "ipython",
    "version": 3
   },
   "file_extension": ".py",
   "mimetype": "text/x-python",
   "name": "python",
   "nbconvert_exporter": "python",
   "pygments_lexer": "ipython3",
   "version": "3.9.6"
  }
 },
 "nbformat": 4,
 "nbformat_minor": 5
}
