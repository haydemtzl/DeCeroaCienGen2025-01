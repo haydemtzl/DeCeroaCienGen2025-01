{
 "cells": [
  {
   "cell_type": "markdown",
   "id": "51fe81ce-c31d-4d64-ab6f-6cba3f776ef2",
   "metadata": {},
   "source": [
    "# Vectores y sus operaciones"
   ]
  },
  {
   "cell_type": "code",
   "execution_count": 1,
   "id": "04e0e74b-e28b-4d81-ac04-dcce68983984",
   "metadata": {},
   "outputs": [
    {
     "data": {
      "text/plain": [
       "[1, 2, 3, 4, 5, 6]"
      ]
     },
     "execution_count": 1,
     "metadata": {},
     "output_type": "execute_result"
    }
   ],
   "source": [
    "# Vectores\n",
    "# Crear un vector con una lista de python\n",
    "\n",
    "v1py = [1,2,3]\n",
    "v2py = [4,5,6]\n",
    "\n",
    "v1py + v2py"
   ]
  },
  {
   "cell_type": "code",
   "execution_count": 2,
   "id": "b4141cdd-e75d-4f97-8b89-07ed648cc123",
   "metadata": {},
   "outputs": [
    {
     "data": {
      "text/plain": [
       "[1, 2, 3, 1, 2, 3, 1, 2, 3, 1, 2, 3, 1, 2, 3, 1, 2, 3, 1, 2, 3]"
      ]
     },
     "execution_count": 2,
     "metadata": {},
     "output_type": "execute_result"
    }
   ],
   "source": [
    "7 * v1py"
   ]
  },
  {
   "cell_type": "code",
   "execution_count": 3,
   "id": "21358317-9b3c-4bf8-8122-bd458a530d74",
   "metadata": {},
   "outputs": [],
   "source": [
    "# Importar numpy que es la libreria matematica que me permite utilizar los objetos algebraicos\n",
    "\n",
    "import numpy as np"
   ]
  },
  {
   "cell_type": "code",
   "execution_count": 4,
   "id": "9f6d3014-6771-400b-b48c-7447ae4d44c4",
   "metadata": {},
   "outputs": [],
   "source": [
    "# Crear un array de numpy\n",
    "\n",
    "v1np = np.array([1,2,3]) \n",
    "v2np = np.array(v2py) # np.array([4,5,6])"
   ]
  },
  {
   "cell_type": "code",
   "execution_count": 5,
   "id": "78e30c7c-714d-49d6-a9a5-2ac52659a294",
   "metadata": {},
   "outputs": [
    {
     "data": {
      "text/plain": [
       "array([5, 7, 9])"
      ]
     },
     "execution_count": 5,
     "metadata": {},
     "output_type": "execute_result"
    }
   ],
   "source": [
    "#Suma de vectores\n",
    "v1np + v2np"
   ]
  },
  {
   "cell_type": "code",
   "execution_count": 6,
   "id": "51b3b2b6-f1af-4785-ab7c-56668fc22626",
   "metadata": {},
   "outputs": [
    {
     "data": {
      "text/plain": [
       "array([-3, -3, -3])"
      ]
     },
     "execution_count": 6,
     "metadata": {},
     "output_type": "execute_result"
    }
   ],
   "source": [
    "#Resta de vectores\n",
    "v1np - v2np"
   ]
  },
  {
   "cell_type": "code",
   "execution_count": 7,
   "id": "82369e6b-fbd5-402a-a380-b2c9e3144060",
   "metadata": {},
   "outputs": [
    {
     "data": {
      "text/plain": [
       "array([ 7, 14, 21])"
      ]
     },
     "execution_count": 7,
     "metadata": {},
     "output_type": "execute_result"
    }
   ],
   "source": [
    "#Multiplicación por escalar\n",
    "7 * v1np"
   ]
  },
  {
   "cell_type": "code",
   "execution_count": 10,
   "id": "47fc62b5-0803-4055-98f3-285b72ad6018",
   "metadata": {},
   "outputs": [
    {
     "data": {
      "text/plain": [
       "array([1., 1., 1., 1., 1., 1., 1.])"
      ]
     },
     "execution_count": 10,
     "metadata": {},
     "output_type": "execute_result"
    }
   ],
   "source": [
    "# Funcion para crear vectores con 1's\n",
    "\n",
    "vunos = np.ones(7)\n",
    "vunos"
   ]
  },
  {
   "cell_type": "code",
   "execution_count": 20,
   "id": "3a7f0f9a-c58d-48e7-b071-b8143b2b006a",
   "metadata": {},
   "outputs": [
    {
     "data": {
      "text/plain": [
       "array([ 8,  9, 10, 11, 12, 13, 14, 15])"
      ]
     },
     "execution_count": 20,
     "metadata": {},
     "output_type": "execute_result"
    }
   ],
   "source": [
    "# Crear vectores por un rango definido\n",
    "\n",
    "vrange = np.arange(8,16)\n",
    "vrange"
   ]
  },
  {
   "cell_type": "code",
   "execution_count": 21,
   "id": "4a488028-7380-4dc3-8166-9206953377b7",
   "metadata": {},
   "outputs": [
    {
     "data": {
      "text/plain": [
       "32"
      ]
     },
     "execution_count": 21,
     "metadata": {},
     "output_type": "execute_result"
    }
   ],
   "source": [
    "# Producto punto en numpy\n",
    "np.dot(v1np,v2np)"
   ]
  },
  {
   "cell_type": "code",
   "execution_count": 24,
   "id": "800db69c-d0f0-4c77-8eb7-14b3ee2deb1f",
   "metadata": {},
   "outputs": [
    {
     "data": {
      "text/plain": [
       "32"
      ]
     },
     "execution_count": 24,
     "metadata": {},
     "output_type": "execute_result"
    }
   ],
   "source": [
    "# Producto punto con sum (función nativa de python)\n",
    "sum(v1np*v2np)"
   ]
  },
  {
   "cell_type": "code",
   "execution_count": 26,
   "id": "8a233521-5a21-4f54-8f6f-2b6e8c513be2",
   "metadata": {},
   "outputs": [
    {
     "data": {
      "text/plain": [
       "0"
      ]
     },
     "execution_count": 26,
     "metadata": {},
     "output_type": "execute_result"
    }
   ],
   "source": [
    "# Ejemplo de vectores ortogonales o perpendiculares\n",
    "v1 = np.array([3,4])\n",
    "v2 = np.array([4,-3])\n",
    "\n",
    "np.dot(v1,v2)"
   ]
  },
  {
   "cell_type": "code",
   "execution_count": 28,
   "id": "29253cdb-6c99-4221-8132-cf1a407b3c11",
   "metadata": {},
   "outputs": [
    {
     "data": {
      "text/plain": [
       "5.477225575051661"
      ]
     },
     "execution_count": 28,
     "metadata": {},
     "output_type": "execute_result"
    }
   ],
   "source": [
    "# Ejemplo de cálculo de norma del vector\n",
    "v3 = np.array([1,2,3,4])\n",
    "np.linalg.norm(v3)"
   ]
  },
  {
   "cell_type": "markdown",
   "id": "f326b7e1-0abb-4337-89d9-d47a6459d8af",
   "metadata": {},
   "source": [
    "# Matrices"
   ]
  },
  {
   "cell_type": "code",
   "execution_count": 30,
   "id": "1b73f4bb-ae38-40b8-a995-5bba269b5529",
   "metadata": {},
   "outputs": [
    {
     "data": {
      "text/plain": [
       "array([[1, 3, 2],\n",
       "       [1, 0, 0],\n",
       "       [1, 2, 2]])"
      ]
     },
     "execution_count": 30,
     "metadata": {},
     "output_type": "execute_result"
    }
   ],
   "source": [
    "A = np.array([[1,3,2],[1,0,0],[1,2,2]]) # Para creear matrices van dentro de una lista, y son listas separadas por comas\n",
    "\n",
    "A"
   ]
  },
  {
   "cell_type": "code",
   "execution_count": 31,
   "id": "ed0ce817-cd0a-480a-9e4b-9dc1b39d3fb0",
   "metadata": {},
   "outputs": [
    {
     "data": {
      "text/plain": [
       "array([[1, 0, 5],\n",
       "       [7, 5, 0],\n",
       "       [2, 1, 1]])"
      ]
     },
     "execution_count": 31,
     "metadata": {},
     "output_type": "execute_result"
    }
   ],
   "source": [
    "B = np.array([[1,0,5],\n",
    "              [7,5,0],\n",
    "              [2,1,1]])\n",
    "B"
   ]
  },
  {
   "cell_type": "code",
   "execution_count": 32,
   "id": "a8a44dd8-779d-4da3-af5c-1ca1df463431",
   "metadata": {},
   "outputs": [
    {
     "data": {
      "text/plain": [
       "array([[2, 3, 7],\n",
       "       [8, 5, 0],\n",
       "       [3, 3, 3]])"
      ]
     },
     "execution_count": 32,
     "metadata": {},
     "output_type": "execute_result"
    }
   ],
   "source": [
    "A + B"
   ]
  },
  {
   "cell_type": "code",
   "execution_count": 33,
   "id": "b3fad68d-4a2c-4572-81d6-a27ec634a165",
   "metadata": {},
   "outputs": [
    {
     "data": {
      "text/plain": [
       "array([[ 0,  3, -3],\n",
       "       [-6, -5,  0],\n",
       "       [-1,  1,  1]])"
      ]
     },
     "execution_count": 33,
     "metadata": {},
     "output_type": "execute_result"
    }
   ],
   "source": [
    "A - B"
   ]
  },
  {
   "cell_type": "code",
   "execution_count": 34,
   "id": "cd0bf05f-0f90-48a0-b336-8d48f304d864",
   "metadata": {},
   "outputs": [
    {
     "data": {
      "text/plain": [
       "array([[ 5, 15, 10],\n",
       "       [ 5,  0,  0],\n",
       "       [ 5, 10, 10]])"
      ]
     },
     "execution_count": 34,
     "metadata": {},
     "output_type": "execute_result"
    }
   ],
   "source": [
    "A * 5"
   ]
  },
  {
   "cell_type": "code",
   "execution_count": 35,
   "id": "4572987f-5400-4f26-8b64-1d2d5353e802",
   "metadata": {},
   "outputs": [
    {
     "data": {
      "text/plain": [
       "(3, 3)"
      ]
     },
     "execution_count": 35,
     "metadata": {},
     "output_type": "execute_result"
    }
   ],
   "source": [
    "# Para ver la dimensión de mi matriz (Cuantas columnas, cuantos renglones)\n",
    "A.shape"
   ]
  },
  {
   "cell_type": "code",
   "execution_count": 37,
   "id": "a737c578-8a33-4c6d-a735-3419b3bcdf7f",
   "metadata": {},
   "outputs": [
    {
     "data": {
      "text/plain": [
       "9"
      ]
     },
     "execution_count": 37,
     "metadata": {},
     "output_type": "execute_result"
    }
   ],
   "source": [
    "# Cuantos elementos \n",
    "A.size"
   ]
  },
  {
   "cell_type": "code",
   "execution_count": 38,
   "id": "dc3a3c44-0849-462c-9b6f-d732cddfe898",
   "metadata": {},
   "outputs": [
    {
     "data": {
      "text/plain": [
       "array([[ 1,  2,  3,  4],\n",
       "       [ 5,  6,  7,  8],\n",
       "       [ 9, 10, 11, 12]])"
      ]
     },
     "execution_count": 38,
     "metadata": {},
     "output_type": "execute_result"
    }
   ],
   "source": [
    "# Multiplicación de matrices\n",
    "A = np.arange(1,13).reshape(3,4)\n",
    "A"
   ]
  },
  {
   "cell_type": "code",
   "execution_count": 40,
   "id": "4a0e8c4d-0b62-41eb-bea1-066a112f330a",
   "metadata": {},
   "outputs": [
    {
     "data": {
      "text/plain": [
       "array([[0, 1],\n",
       "       [2, 3],\n",
       "       [4, 5],\n",
       "       [6, 7]])"
      ]
     },
     "execution_count": 40,
     "metadata": {},
     "output_type": "execute_result"
    }
   ],
   "source": [
    "B = np.arange(8).reshape(4,2)\n",
    "B"
   ]
  },
  {
   "cell_type": "code",
   "execution_count": 41,
   "id": "6bb7156c-09e8-4167-9b72-4484e0f939b1",
   "metadata": {},
   "outputs": [
    {
     "data": {
      "text/plain": [
       "array([[ 40,  50],\n",
       "       [ 88, 114],\n",
       "       [136, 178]])"
      ]
     },
     "execution_count": 41,
     "metadata": {},
     "output_type": "execute_result"
    }
   ],
   "source": [
    "A @ B #El arroba es el simbolo que usa numpy para realizar la multiplicación de matrices"
   ]
  },
  {
   "cell_type": "code",
   "execution_count": 42,
   "id": "b9dc46d3-21c3-4752-b1e9-46f005e56fa9",
   "metadata": {},
   "outputs": [
    {
     "ename": "ValueError",
     "evalue": "matmul: Input operand 1 has a mismatch in its core dimension 0, with gufunc signature (n?,k),(k,m?)->(n?,m?) (size 3 is different from 2)",
     "output_type": "error",
     "traceback": [
      "\u001b[0;31m---------------------------------------------------------------------------\u001b[0m",
      "\u001b[0;31mValueError\u001b[0m                                Traceback (most recent call last)",
      "Cell \u001b[0;32mIn[42], line 1\u001b[0m\n\u001b[0;32m----> 1\u001b[0m \u001b[43mB\u001b[49m\u001b[43m \u001b[49m\u001b[38;5;241;43m@\u001b[39;49m\u001b[43m \u001b[49m\u001b[43mA\u001b[49m\n",
      "\u001b[0;31mValueError\u001b[0m: matmul: Input operand 1 has a mismatch in its core dimension 0, with gufunc signature (n?,k),(k,m?)->(n?,m?) (size 3 is different from 2)"
     ]
    }
   ],
   "source": [
    "B @ A"
   ]
  },
  {
   "cell_type": "code",
   "execution_count": 45,
   "id": "95d229c7-3634-4ef2-8434-283cbbfc0ac9",
   "metadata": {},
   "outputs": [
    {
     "data": {
      "text/plain": [
       "array([[1., 0.],\n",
       "       [0., 1.]])"
      ]
     },
     "execution_count": 45,
     "metadata": {},
     "output_type": "execute_result"
    }
   ],
   "source": [
    "# Creando una matriz identidad\n",
    "I = np.eye(2)\n",
    "I"
   ]
  },
  {
   "cell_type": "code",
   "execution_count": 46,
   "id": "e70e4e3d-00fa-413a-9edb-245628882984",
   "metadata": {},
   "outputs": [],
   "source": [
    "C = np.array([[4,7],\n",
    "              [2,6]])"
   ]
  },
  {
   "cell_type": "code",
   "execution_count": 47,
   "id": "01e717f8-90ca-4753-9860-ee2faff792c9",
   "metadata": {},
   "outputs": [
    {
     "data": {
      "text/plain": [
       "array([[4., 7.],\n",
       "       [2., 6.]])"
      ]
     },
     "execution_count": 47,
     "metadata": {},
     "output_type": "execute_result"
    }
   ],
   "source": [
    "I @ C"
   ]
  },
  {
   "cell_type": "code",
   "execution_count": 48,
   "id": "3bb8f34d-a0b5-4f2a-b098-d47083cbf11d",
   "metadata": {},
   "outputs": [
    {
     "data": {
      "text/plain": [
       "10.000000000000002"
      ]
     },
     "execution_count": 48,
     "metadata": {},
     "output_type": "execute_result"
    }
   ],
   "source": [
    "# Calculo del determinante\n",
    "np.linalg.det(C)"
   ]
  },
  {
   "cell_type": "code",
   "execution_count": 49,
   "id": "74705e14-c57c-4067-a9ff-e6704f6e45a1",
   "metadata": {},
   "outputs": [
    {
     "data": {
      "text/plain": [
       "36.0"
      ]
     },
     "execution_count": 49,
     "metadata": {},
     "output_type": "execute_result"
    }
   ],
   "source": [
    "# Calculo del determinante\n",
    "E = np.array([[1,2,3],\n",
    "              [4,1,2],\n",
    "              [3,4,1]])\n",
    "np.linalg.det(E)"
   ]
  },
  {
   "cell_type": "code",
   "execution_count": 51,
   "id": "cc8537b8-fd5a-4f06-9f6a-05a4691e7b77",
   "metadata": {},
   "outputs": [
    {
     "data": {
      "text/plain": [
       "array([[0, 1],\n",
       "       [2, 3],\n",
       "       [4, 5]])"
      ]
     },
     "execution_count": 51,
     "metadata": {},
     "output_type": "execute_result"
    }
   ],
   "source": [
    "# Matriz transpuesta\n",
    "F = np.arange(6).reshape(3,2)\n",
    "F"
   ]
  },
  {
   "cell_type": "code",
   "execution_count": 52,
   "id": "6e4d5dbd-2e8c-42ab-a855-5b3de380e5b9",
   "metadata": {},
   "outputs": [
    {
     "data": {
      "text/plain": [
       "array([[0, 2, 4],\n",
       "       [1, 3, 5]])"
      ]
     },
     "execution_count": 52,
     "metadata": {},
     "output_type": "execute_result"
    }
   ],
   "source": [
    "np.transpose(F)"
   ]
  },
  {
   "cell_type": "code",
   "execution_count": 53,
   "id": "dc08d995-c4a1-4aca-8bbb-cb90b903866b",
   "metadata": {},
   "outputs": [
    {
     "data": {
      "text/plain": [
       "array([[ 0.6, -0.7],\n",
       "       [-0.2,  0.4]])"
      ]
     },
     "execution_count": 53,
     "metadata": {},
     "output_type": "execute_result"
    }
   ],
   "source": [
    "# Matriz inversa\n",
    "inv = np.linalg.inv(C)\n",
    "inv"
   ]
  },
  {
   "cell_type": "code",
   "execution_count": null,
   "id": "05bf3385-f5bf-428d-947f-99954349b0df",
   "metadata": {},
   "outputs": [],
   "source": []
  }
 ],
 "metadata": {
  "kernelspec": {
   "display_name": "Python 3 (ipykernel)",
   "language": "python",
   "name": "python3"
  },
  "language_info": {
   "codemirror_mode": {
    "name": "ipython",
    "version": 3
   },
   "file_extension": ".py",
   "mimetype": "text/x-python",
   "name": "python",
   "nbconvert_exporter": "python",
   "pygments_lexer": "ipython3",
   "version": "3.9.6"
  }
 },
 "nbformat": 4,
 "nbformat_minor": 5
}
